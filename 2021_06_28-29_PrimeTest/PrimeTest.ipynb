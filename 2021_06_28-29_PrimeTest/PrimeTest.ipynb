{
 "cells": [
  {
   "cell_type": "code",
   "execution_count": 9,
   "metadata": {},
   "outputs": [],
   "source": [
    "import time"
   ]
  },
  {
   "cell_type": "markdown",
   "metadata": {},
   "source": [
    "# Alogrithm 1"
   ]
  },
  {
   "cell_type": "code",
   "execution_count": 52,
   "metadata": {},
   "outputs": [
    {
     "name": "stdout",
     "output_type": "stream",
     "text": [
      "16785407 is a prime number\n",
      "Excuction time:  1.6082401275634766\n"
     ]
    }
   ],
   "source": [
    "seconds = time.time()\n",
    "# Program to check if a number is prime or not\n",
    "num = 16785407#1073807359#4294967297#\n",
    "\n",
    "# define a flag variable\n",
    "flag = False\n",
    "\n",
    "# prime numbers are greater than 1\n",
    "if num > 1:\n",
    "    # check for factors\n",
    "    for i in range(2, num):\n",
    "        if (num % i) == 0:\n",
    "            # if factor is found, set flag to True\n",
    "            flag = True\n",
    "            # break out of loop\n",
    "            break\n",
    "else:\n",
    "    flag = True\n",
    "        \n",
    "# check if flag is True\n",
    "if flag:\n",
    "    print(num, \"is not a prime number.\", \"num=\",i,\"*\", int(num/i))\n",
    "else:\n",
    "    print(num, \"is a prime number\")\n",
    "\n",
    "print(\"Excuction time: \", time.time()-seconds)"
   ]
  },
  {
   "cell_type": "markdown",
   "metadata": {},
   "source": [
    "## 1073807359 is a prime number\n",
    "Excuction time:  143.37062096595764"
   ]
  },
  {
   "cell_type": "markdown",
   "metadata": {},
   "source": [
    "# Alogrithm 2"
   ]
  },
  {
   "cell_type": "code",
   "execution_count": 54,
   "metadata": {},
   "outputs": [
    {
     "name": "stdout",
     "output_type": "stream",
     "text": [
      "1073807359 is a prime number\n",
      "Excuction time:  71.2613377571106\n"
     ]
    }
   ],
   "source": [
    "seconds = time.time()\n",
    "# Program to check if a number is prime or not\n",
    "num = 1073807359#16785407#4294967297#1073807359#\n",
    "\n",
    "# define a flag variable\n",
    "flag = False\n",
    "\n",
    "# prime numbers are greater than 1\n",
    "if num > 1:\n",
    "    # check for factors\n",
    "    for i in range(2, num//2):\n",
    "        if (num % i) == 0:\n",
    "            # if factor is found, set flag to True\n",
    "            flag = True\n",
    "            # break out of loop\n",
    "            break\n",
    "        \n",
    "# check if flag is True\n",
    "if flag:\n",
    "    print(num, \"is not a prime number.\", \"num=\",i,\"*\", int(num/i))\n",
    "else:\n",
    "    print(num, \"is a prime number\")\n",
    "\n",
    "print(\"Excuction time: \", time.time()-seconds)"
   ]
  },
  {
   "cell_type": "markdown",
   "metadata": {},
   "source": [
    "# Alogrithm 3"
   ]
  },
  {
   "cell_type": "code",
   "execution_count": 44,
   "metadata": {},
   "outputs": [
    {
     "name": "stdout",
     "output_type": "stream",
     "text": [
      "16785407 is a prime number\n",
      "Excuction time:  0.3079490661621094\n"
     ]
    }
   ],
   "source": [
    "seconds = time.time()\n",
    "# Program to check if a number is prime or not\n",
    "num = 16785407#4294967297#1073807359#\n",
    "\n",
    "# define a flag variable\n",
    "flag = False    \n",
    "    \n",
    "#Primality test using 6k+-1 optimization.\n",
    "if num > 1 and num <= 3:\n",
    "    flag = False\n",
    "if num % 2 == 0 or num % 3 == 0:\n",
    "    flag = True\n",
    "\n",
    "for k in range(6, num//2, 6):\n",
    "    if num % (k-1) == 0 or num % (k + 1) == 0:\n",
    "        flag = True\n",
    "        break\n",
    "else:\n",
    "    flag = False\n",
    "\n",
    "# check if flag is True\n",
    "if flag:\n",
    "    print(num, \"is not a prime number\")\n",
    "else:\n",
    "    print(num, \"is a prime number\")\n",
    "print(\"Excuction time: \", time.time()-seconds)"
   ]
  },
  {
   "cell_type": "code",
   "execution_count": null,
   "metadata": {},
   "outputs": [],
   "source": []
  },
  {
   "cell_type": "code",
   "execution_count": null,
   "metadata": {},
   "outputs": [],
   "source": []
  }
 ],
 "metadata": {
  "kernelspec": {
   "display_name": "Python 3",
   "language": "python",
   "name": "python3"
  },
  "language_info": {
   "codemirror_mode": {
    "name": "ipython",
    "version": 3
   },
   "file_extension": ".py",
   "mimetype": "text/x-python",
   "name": "python",
   "nbconvert_exporter": "python",
   "pygments_lexer": "ipython3",
   "version": "3.7.3"
  }
 },
 "nbformat": 4,
 "nbformat_minor": 2
}
